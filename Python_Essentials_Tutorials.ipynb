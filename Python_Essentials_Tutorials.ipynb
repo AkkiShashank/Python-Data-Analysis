{
 "cells": [
  {
   "cell_type": "code",
   "execution_count": 2,
   "metadata": {
    "collapsed": false
   },
   "outputs": [
    {
     "name": "stdout",
     "output_type": "stream",
     "text": [
      "Data\n"
     ]
    }
   ],
   "source": [
    "print(\"Data\")"
   ]
  },
  {
   "cell_type": "code",
   "execution_count": 9,
   "metadata": {
    "collapsed": false
   },
   "outputs": [
    {
     "name": "stdout",
     "output_type": "stream",
     "text": [
      "<class 'str'>\n",
      "<class 'str'>\n",
      "True\n",
      "False\n",
      "True\n"
     ]
    }
   ],
   "source": [
    "a=\"Data\"\n",
    "print(type(a))\n",
    "\n",
    "b=\"Analysis\"\n",
    "print(type(b))\n",
    "\n",
    "c=3.4\n",
    "\n",
    "print(isinstance(a,str))\n",
    "print(isinstance(b,int))\n",
    "print(isinstance(c,(int,float)))"
   ]
  },
  {
   "cell_type": "code",
   "execution_count": 12,
   "metadata": {
    "collapsed": false
   },
   "outputs": [
    {
     "data": {
      "text/plain": [
       "False"
      ]
     },
     "execution_count": 12,
     "metadata": {},
     "output_type": "execute_result"
    }
   ],
   "source": [
    "a=\"shashank\"\n",
    "a.islower==True"
   ]
  },
  {
   "cell_type": "code",
   "execution_count": 13,
   "metadata": {
    "collapsed": false
   },
   "outputs": [
    {
     "data": {
      "text/plain": [
       "array([1, 2, 3, 4])"
      ]
     },
     "execution_count": 13,
     "metadata": {},
     "output_type": "execute_result"
    }
   ],
   "source": [
    "# Importing modules\n",
    "import numpy as np\n",
    "data__new=[1,2,3,4]\n",
    "data=np.array(data__new)\n",
    "data"
   ]
  },
  {
   "cell_type": "code",
   "execution_count": 14,
   "metadata": {
    "collapsed": false
   },
   "outputs": [
    {
     "data": {
      "text/plain": [
       "3"
      ]
     },
     "execution_count": 14,
     "metadata": {},
     "output_type": "execute_result"
    }
   ],
   "source": [
    "data[2]"
   ]
  },
  {
   "cell_type": "code",
   "execution_count": 15,
   "metadata": {
    "collapsed": false
   },
   "outputs": [
    {
     "name": "stdout",
     "output_type": "stream",
     "text": [
      "True\n",
      "True\n"
     ]
    }
   ],
   "source": [
    "x=[1,2,3,4,5]\n",
    "y=x\n",
    "z=list(x)\n",
    "print(x is y)\n",
    "print(x is not z)"
   ]
  },
  {
   "cell_type": "code",
   "execution_count": 17,
   "metadata": {
    "collapsed": false
   },
   "outputs": [
    {
     "name": "stdout",
     "output_type": "stream",
     "text": [
      "['java', 'r', 'python']\n"
     ]
    },
    {
     "ename": "TypeError",
     "evalue": "'tuple' object does not support item assignment",
     "output_type": "error",
     "traceback": [
      "\u001b[0;31m---------------------------------------------------------------------------\u001b[0m",
      "\u001b[0;31mTypeError\u001b[0m                                 Traceback (most recent call last)",
      "\u001b[0;32m<ipython-input-17-87087fe0dc2f>\u001b[0m in \u001b[0;36m<module>\u001b[0;34m()\u001b[0m\n\u001b[1;32m      6\u001b[0m \u001b[0;34m\u001b[0m\u001b[0m\n\u001b[1;32m      7\u001b[0m \u001b[0mz_tuple\u001b[0m\u001b[0;34m=\u001b[0m\u001b[0;34m(\u001b[0m\u001b[0;36m1\u001b[0m\u001b[0;34m,\u001b[0m\u001b[0;36m2\u001b[0m\u001b[0;34m,\u001b[0m\u001b[0;36m3\u001b[0m\u001b[0;34m,\u001b[0m\u001b[0;36m4\u001b[0m\u001b[0;34m)\u001b[0m\u001b[0;34m\u001b[0m\u001b[0m\n\u001b[0;32m----> 8\u001b[0;31m \u001b[0mz_tuple\u001b[0m\u001b[0;34m[\u001b[0m\u001b[0;36m2\u001b[0m\u001b[0;34m]\u001b[0m\u001b[0;34m=\u001b[0m\u001b[0;36m2\u001b[0m\u001b[0;34m\u001b[0m\u001b[0m\n\u001b[0m",
      "\u001b[0;31mTypeError\u001b[0m: 'tuple' object does not support item assignment"
     ]
    }
   ],
   "source": [
    "# Mutable and immutable changes\n",
    "#list and tuple difference\n",
    "programming=[\"java\",\"r\",\"c\"]\n",
    "programming[2]=\"python\"\n",
    "print(programming)\n",
    "\n",
    "z_tuple=(1,2,3,4)\n",
    "z_tuple[2]=2"
   ]
  },
  {
   "cell_type": "code",
   "execution_count": 18,
   "metadata": {
    "collapsed": false
   },
   "outputs": [
    {
     "data": {
      "text/plain": [
       "'\\nHey this is Shahsank\\n'"
      ]
     },
     "execution_count": 18,
     "metadata": {},
     "output_type": "execute_result"
    }
   ],
   "source": [
    "# Strings\n",
    "\"\"\"\n",
    "Hey this is Shahsank\n",
    "\"\"\""
   ]
  },
  {
   "cell_type": "code",
   "execution_count": 19,
   "metadata": {
    "collapsed": false
   },
   "outputs": [
    {
     "ename": "TypeError",
     "evalue": "'str' object does not support item assignment",
     "output_type": "error",
     "traceback": [
      "\u001b[0;31m---------------------------------------------------------------------------\u001b[0m",
      "\u001b[0;31mTypeError\u001b[0m                                 Traceback (most recent call last)",
      "\u001b[0;32m<ipython-input-19-c5bb69494a41>\u001b[0m in \u001b[0;36m<module>\u001b[0;34m()\u001b[0m\n\u001b[1;32m      1\u001b[0m \u001b[0mx\u001b[0m\u001b[0;34m=\u001b[0m\u001b[0;34m'This is Shashank'\u001b[0m\u001b[0;34m\u001b[0m\u001b[0m\n\u001b[0;32m----> 2\u001b[0;31m \u001b[0mx\u001b[0m\u001b[0;34m[\u001b[0m\u001b[0;36m10\u001b[0m\u001b[0;34m]\u001b[0m\u001b[0;34m=\u001b[0m\u001b[0;34m'f'\u001b[0m\u001b[0;34m\u001b[0m\u001b[0m\n\u001b[0m",
      "\u001b[0;31mTypeError\u001b[0m: 'str' object does not support item assignment"
     ]
    }
   ],
   "source": [
    "x='This is Shashank'\n",
    "x[10]='f'"
   ]
  },
  {
   "cell_type": "code",
   "execution_count": 20,
   "metadata": {
    "collapsed": false
   },
   "outputs": [
    {
     "data": {
      "text/plain": [
       "'I love Python'"
      ]
     },
     "execution_count": 20,
     "metadata": {},
     "output_type": "execute_result"
    }
   ],
   "source": [
    "j='I love Java'\n",
    "y=j.replace('Java','Python')\n",
    "y"
   ]
  },
  {
   "cell_type": "code",
   "execution_count": 24,
   "metadata": {
    "collapsed": false
   },
   "outputs": [
    {
     "name": "stdout",
     "output_type": "stream",
     "text": [
      "123\n",
      "<class 'str'>\n",
      "['P', 'y', 't', 'h', 'o', 'n']\n",
      "Pyt\n",
      "ython\n"
     ]
    }
   ],
   "source": [
    "x=123\n",
    "y=str(x)\n",
    "print(y)\n",
    "print(type(y))\n",
    "\n",
    "a='Python'\n",
    "print(list(a))\n",
    "print(a[:3])\n",
    "print(a[1:])"
   ]
  },
  {
   "cell_type": "code",
   "execution_count": 26,
   "metadata": {
    "collapsed": false
   },
   "outputs": [
    {
     "name": "stdout",
     "output_type": "stream",
     "text": [
      "R vs Python\n"
     ]
    }
   ],
   "source": [
    "p=\"R vs\"\n",
    "q=\" Python\"\n",
    "print(p+q)"
   ]
  },
  {
   "cell_type": "code",
   "execution_count": 28,
   "metadata": {
    "collapsed": false
   },
   "outputs": [
    {
     "name": "stdout",
     "output_type": "stream",
     "text": [
      "Hii space left is just 0.987 gb, and  the data base is mysql\n",
      "Hii space left is just 0.987000 gb, and  the data base is mysql\n",
      "Hii space left is just 0 gb, and  the data base is mysql\n"
     ]
    }
   ],
   "source": [
    "print(\"Hii space left is just %.3f gb, and  the data base is %s\"  %(0.987, 'mysql'))\n",
    "print(\"Hii space left is just %f gb, and  the data base is %s\"  %(0.987, 'mysql'))\n",
    "print(\"Hii space left is just %d gb, and  the data base is %s\"  %(0.987, 'mysql'))"
   ]
  },
  {
   "cell_type": "code",
   "execution_count": 30,
   "metadata": {
    "collapsed": false
   },
   "outputs": [
    {
     "name": "stdout",
     "output_type": "stream",
     "text": [
      "False True\n",
      "True False\n"
     ]
    }
   ],
   "source": [
    "#Empty iterables(list, dict, strings, tuples etc) are treated as False\n",
    "print(bool([]), bool([0,1,2,3]))\n",
    "print(bool('Hello Python!'), bool(''))"
   ]
  },
  {
   "cell_type": "code",
   "execution_count": 32,
   "metadata": {
    "collapsed": false
   },
   "outputs": [
    {
     "name": "stdout",
     "output_type": "stream",
     "text": [
      "2017-01-24 17:34:22.945310\n",
      "24\n"
     ]
    }
   ],
   "source": [
    "#Python date and time module provides datetime, date and time types\n",
    "from datetime import datetime\n",
    "print(datetime.now())\n",
    "print(datetime.now().day)"
   ]
  },
  {
   "cell_type": "code",
   "execution_count": 39,
   "metadata": {
    "collapsed": false
   },
   "outputs": [
    {
     "name": "stdout",
     "output_type": "stream",
     "text": [
      "7\n",
      "5\n",
      "1989-06-07\n",
      "02:05:45\n"
     ]
    },
    {
     "data": {
      "text/plain": [
       "'06/07/89 02:05:45'"
      ]
     },
     "execution_count": 39,
     "metadata": {},
     "output_type": "execute_result"
    }
   ],
   "source": [
    "from datetime import datetime\n",
    "td=datetime(1989,6,7,2,5,45)\n",
    "print(td.day)\n",
    "print(td.minute)\n",
    "print(td.date())\n",
    "print(td.time())\n",
    "td.strftime('%m/%d/%y %H:%M:%S')"
   ]
  },
  {
   "cell_type": "code",
   "execution_count": 42,
   "metadata": {
    "collapsed": false
   },
   "outputs": [
    {
     "data": {
      "text/plain": [
       "datetime.datetime(1988, 4, 6, 0, 33, 45)"
      ]
     },
     "execution_count": 42,
     "metadata": {},
     "output_type": "execute_result"
    }
   ],
   "source": [
    "from datetime import datetime\n",
    "datetime.strptime('1989911', '%Y%m%d') # strings can be converted to date and time objects using strptime\n",
    "td=datetime(1988,4,6,2,8,20)\n",
    "td.replace(hour=0,minute=33,second=45)"
   ]
  },
  {
   "cell_type": "code",
   "execution_count": 43,
   "metadata": {
    "collapsed": false
   },
   "outputs": [
    {
     "name": "stdout",
     "output_type": "stream",
     "text": [
      "-56 days, 2:02:14\n",
      "<class 'datetime.timedelta'>\n",
      "1988-01-12 06:09:23\n"
     ]
    }
   ],
   "source": [
    "from datetime import datetime\n",
    "td=datetime(1988,3,8,4,7,9)\n",
    "td1=datetime(1988,5,3,2,4,55)\n",
    "new_td=td-td1\n",
    "print(new_td)\n",
    "print(type(new_td))\n",
    "print(td+new_td)"
   ]
  },
  {
   "cell_type": "code",
   "execution_count": 44,
   "metadata": {
    "collapsed": false
   },
   "outputs": [
    {
     "ename": "ValueError",
     "evalue": "could not convert string to float: 'Big Data'",
     "output_type": "error",
     "traceback": [
      "\u001b[0;31m---------------------------------------------------------------------------\u001b[0m",
      "\u001b[0;31mValueError\u001b[0m                                Traceback (most recent call last)",
      "\u001b[0;32m<ipython-input-44-a7814ade8763>\u001b[0m in \u001b[0;36m<module>\u001b[0;34m()\u001b[0m\n\u001b[1;32m      1\u001b[0m \u001b[0;31m# Handling Exceptions\u001b[0m\u001b[0;34m\u001b[0m\u001b[0;34m\u001b[0m\u001b[0m\n\u001b[1;32m      2\u001b[0m \u001b[0;34m\u001b[0m\u001b[0m\n\u001b[0;32m----> 3\u001b[0;31m \u001b[0mfloat\u001b[0m\u001b[0;34m(\u001b[0m\u001b[0;34m'Big Data'\u001b[0m\u001b[0;34m)\u001b[0m\u001b[0;34m\u001b[0m\u001b[0m\n\u001b[0m",
      "\u001b[0;31mValueError\u001b[0m: could not convert string to float: 'Big Data'"
     ]
    }
   ],
   "source": [
    "# Handling Exceptions\n",
    "\n",
    "float('Big Data')"
   ]
  },
  {
   "cell_type": "code",
   "execution_count": 45,
   "metadata": {
    "collapsed": false
   },
   "outputs": [
    {
     "name": "stdout",
     "output_type": "stream",
     "text": [
      "4.5\n",
      "Big Data\n"
     ]
    }
   ],
   "source": [
    "def return_float(x):\n",
    "    try:\n",
    "        return float(x)\n",
    "    except:\n",
    "        return x\n",
    "\n",
    "print(return_float('4.5'))\n",
    "print(return_float('Big Data'))"
   ]
  },
  {
   "cell_type": "code",
   "execution_count": 53,
   "metadata": {
    "collapsed": false
   },
   "outputs": [
    {
     "name": "stdout",
     "output_type": "stream",
     "text": [
      "(9, 8)\n"
     ]
    }
   ],
   "source": [
    "#print(float(9,8)) ->this will return a type error, remove the comment and check the output.\n",
    "def return_float(x):\n",
    "    try:\n",
    "        return float(x)\n",
    "    except(TypeError,ValueError):\n",
    "        return x\n",
    "print(return_float((9,8)))\n"
   ]
  },
  {
   "cell_type": "markdown",
   "metadata": {},
   "source": [
    "x = 'Life is short use python'\n",
    "'This is my favourite quote' if x == 'Life is short use python'  else 'I hate R'"
   ]
  },
  {
   "cell_type": "code",
   "execution_count": 57,
   "metadata": {
    "collapsed": false
   },
   "outputs": [
    {
     "name": "stdout",
     "output_type": "stream",
     "text": [
      "(3, 5, 7)\n",
      "((2, 5, 8), (2, 3, 4))\n"
     ]
    }
   ],
   "source": [
    "ml=3,5,7\n",
    "print(ml)\n",
    "\n",
    "py=(2,5,8),(2,3,4)\n",
    "print(py)\n"
   ]
  },
  {
   "cell_type": "code",
   "execution_count": 59,
   "metadata": {
    "collapsed": false
   },
   "outputs": [
    {
     "name": "stdout",
     "output_type": "stream",
     "text": [
      "(2, 4, 6)\n",
      "('P', 'y', 't', 'h', 'o', 'n')\n"
     ]
    },
    {
     "data": {
      "text/plain": [
       "'P'"
      ]
     },
     "execution_count": 59,
     "metadata": {},
     "output_type": "execute_result"
    }
   ],
   "source": [
    "print(tuple([2,4,6]))\n",
    "py=tuple('Python')\n",
    "print(py)\n",
    "py[0]"
   ]
  },
  {
   "cell_type": "code",
   "execution_count": 63,
   "metadata": {
    "collapsed": false
   },
   "outputs": [
    {
     "data": {
      "text/plain": [
       "('sha', [2, 4, 6], 'nope')"
      ]
     },
     "execution_count": 63,
     "metadata": {},
     "output_type": "execute_result"
    }
   ],
   "source": [
    "x=tuple(['sha',[2,4],\"nope\"])\n",
    "x[1].append(6)\n",
    "x"
   ]
  },
  {
   "cell_type": "code",
   "execution_count": 69,
   "metadata": {
    "collapsed": false
   },
   "outputs": [
    {
     "name": "stdout",
     "output_type": "stream",
     "text": [
      "('Mean', 'Median', 'Mode', 'Chisquare', 'Annova', 'statistical significance')\n"
     ]
    },
    {
     "data": {
      "text/plain": [
       "('Mean', 'Median', 'Mean', 'Median', 'Mean', 'Median', 'Mean', 'Median')"
      ]
     },
     "execution_count": 69,
     "metadata": {},
     "output_type": "execute_result"
    }
   ],
   "source": [
    "y = ('Mean', 'Median', 'Mode')+('Chisquare', 'Annova') + ('statistical significance',) # you can concatenate a tuple using'+' symbol. \n",
    "print(y)\n",
    "('Mean', 'Median') *4\n"
   ]
  },
  {
   "cell_type": "code",
   "execution_count": 70,
   "metadata": {
    "collapsed": false
   },
   "outputs": [
    {
     "name": "stdout",
     "output_type": "stream",
     "text": [
      "Theano\n",
      "Open cv\n",
      "Torch\n"
     ]
    }
   ],
   "source": [
    "deep_learning =('Theano', 'Open cv', 'Torch')\n",
    "x,y,z=deep_learning\n",
    "print(x)\n",
    "print(y)\n",
    "print(z)"
   ]
  },
  {
   "cell_type": "code",
   "execution_count": 77,
   "metadata": {
    "collapsed": false
   },
   "outputs": [
    {
     "name": "stdout",
     "output_type": "stream",
     "text": [
      "Usa\n",
      "India\n",
      "Afghanistan\n"
     ]
    },
    {
     "data": {
      "text/plain": [
       "1"
      ]
     },
     "execution_count": 77,
     "metadata": {},
     "output_type": "execute_result"
    }
   ],
   "source": [
    "countries ='Usa', 'India', ('Afghanistan',' Pakistan'),\n",
    "a,b,(c,d)=countries\n",
    "print(a)\n",
    "print(b)\n",
    "print(c)\n",
    "countries.count('Usa')"
   ]
  },
  {
   "cell_type": "code",
   "execution_count": 79,
   "metadata": {
    "collapsed": false
   },
   "outputs": [
    {
     "data": {
      "text/plain": [
       "2"
      ]
     },
     "execution_count": 79,
     "metadata": {},
     "output_type": "execute_result"
    }
   ],
   "source": [
    "countries ='Usa', 'India', ('Afghanistan',' Pakistan'),'Usa'\n",
    "countries.count('Usa')"
   ]
  },
  {
   "cell_type": "code",
   "execution_count": 80,
   "metadata": {
    "collapsed": false
   },
   "outputs": [
    {
     "name": "stdout",
     "output_type": "stream",
     "text": [
      "['Usa', 'India', 'Canada', 'Turkey', 'Britian', ' Pakistan', 'Uzbekistan', 'Afghanistan']\n"
     ]
    }
   ],
   "source": [
    "countries =['Usa', 'India','Afghanistan',' Pakistan']\n",
    "y = countries.extend(['Britian', 'Canada', 'Uzbekistan', 'Turkey'])\n",
    "z=countries.sort(key=len)\n",
    "print(countries)"
   ]
  },
  {
   "cell_type": "code",
   "execution_count": 83,
   "metadata": {
    "collapsed": false
   },
   "outputs": [
    {
     "name": "stdout",
     "output_type": "stream",
     "text": [
      "2\n",
      "9\n"
     ]
    }
   ],
   "source": [
    "import bisect\n",
    "b = [9,9,9,9,5,6,3,5,3,2,1,4,7,8]\n",
    "b.sort() # Now its sorted\n",
    "x=bisect.bisect(b,2) # bisect.bisect finds the location where an element should be inserted to keep it sorted.\n",
    "y=bisect.bisect(b,7)\n",
    "print(x)\n",
    "print(y)"
   ]
  },
  {
   "cell_type": "code",
   "execution_count": 84,
   "metadata": {
    "collapsed": false
   },
   "outputs": [
    {
     "name": "stdout",
     "output_type": "stream",
     "text": [
      "0 Bigdata\n",
      "1 Hadoop\n",
      "2 mapreduce\n",
      "3 Nosql\n"
     ]
    }
   ],
   "source": [
    "languages = ['Bigdata', 'Hadoop', 'mapreduce', 'Nosql']\n",
    "\n",
    "for i,val in enumerate(languages):\n",
    "    print(i,val)"
   ]
  },
  {
   "cell_type": "code",
   "execution_count": 85,
   "metadata": {
    "collapsed": false
   },
   "outputs": [
    {
     "name": "stdout",
     "output_type": "stream",
     "text": [
      "[1, 6, 7, 22, 46, 56]\n",
      "[' ', 'B', 'D', 'a', 'a', 'g', 'i', 't']\n"
     ]
    }
   ],
   "source": [
    "print(sorted([6,46,22,7,1,56]))\n",
    "print(sorted('Big Data'))"
   ]
  },
  {
   "cell_type": "code",
   "execution_count": 88,
   "metadata": {
    "collapsed": false
   },
   "outputs": [
    {
     "name": "stdout",
     "output_type": "stream",
     "text": [
      "<zip object at 0x109ae6dc8>\n",
      "0: Big_data -> c\n",
      "1: data science -> c++\n",
      "2: data scientist -> java\n",
      "3: data base developer -> python\n"
     ]
    }
   ],
   "source": [
    "hot_job = ['Big_data', 'data science', 'data scientist', 'data base developer']\n",
    "languages = ['c', 'c++', 'java', 'python']\n",
    "statistics = ['Mean', 'Median', 'Mode', 'Chi square']\n",
    "print(zip(hot_job,languages,statistics))\n",
    "\n",
    "for i,(x,y) in enumerate(zip(hot_job,languages)):\n",
    "    print('%d: %s -> %s' %(i,x,y))"
   ]
  },
  {
   "cell_type": "code",
   "execution_count": 89,
   "metadata": {
    "collapsed": false
   },
   "outputs": [
    {
     "name": "stdout",
     "output_type": "stream",
     "text": [
      "('Jame', 'Govind', 'Partha')\n",
      "('Manu', 'Dheepan', 'Reddy')\n"
     ]
    }
   ],
   "source": [
    "# you can unzip a zipped sequence as follows\n",
    "rockers = [('Jame', 'Manu'), ('Govind', 'Dheepan'),('Partha', 'Reddy')]\n",
    "fname,lname=zip(*rockers)\n",
    "print(fname)\n",
    "print(lname)"
   ]
  },
  {
   "cell_type": "code",
   "execution_count": 91,
   "metadata": {
    "collapsed": false
   },
   "outputs": [
    {
     "data": {
      "text/plain": [
       "[19, 18, 17, 16, 15, 14, 13, 12, 11, 10, 9, 8, 7, 6, 5, 4, 3, 2, 1, 0]"
      ]
     },
     "execution_count": 91,
     "metadata": {},
     "output_type": "execute_result"
    }
   ],
   "source": [
    "list(reversed(range(20)))"
   ]
  },
  {
   "cell_type": "code",
   "execution_count": 93,
   "metadata": {
    "collapsed": false
   },
   "outputs": [
    {
     "name": "stdout",
     "output_type": "stream",
     "text": [
      "{'b': 'Java', 'c': 'foo', 'd': 12, 'a': 'octave'}\n",
      "{'b': 'python', 'c': 4, 'a': 'octave'}\n"
     ]
    }
   ],
   "source": [
    "# Dictionaries\n",
    "d1 = {'a' : 'octave', 'b' : 'Java'}\n",
    "d1.update({'c' : 'foo', 'd' : 12})\n",
    "print(d1)\n",
    "\n",
    "d2 ={'a':'octave','b' :'java'}\n",
    "d2.update({'b':'python','c':4})\n",
    "print(d2)"
   ]
  },
  {
   "cell_type": "code",
   "execution_count": 95,
   "metadata": {
    "collapsed": false
   },
   "outputs": [
    {
     "data": {
      "text/plain": [
       "{0: 9, 1: 8, 2: 7, 3: 6, 4: 5, 5: 4, 6: 3, 7: 2, 8: 1, 9: 0}"
      ]
     },
     "execution_count": 95,
     "metadata": {},
     "output_type": "execute_result"
    }
   ],
   "source": [
    "ds=dict(zip(range(10),reversed(range(10))))\n",
    "ds"
   ]
  },
  {
   "cell_type": "code",
   "execution_count": 97,
   "metadata": {
    "collapsed": false,
    "scrolled": true
   },
   "outputs": [
    {
     "name": "stdout",
     "output_type": "stream",
     "text": [
      "1061677089541292733\n",
      "2528502973977326415\n"
     ]
    },
    {
     "ename": "TypeError",
     "evalue": "unhashable type: 'list'",
     "output_type": "error",
     "traceback": [
      "\u001b[0;31m---------------------------------------------------------------------------\u001b[0m",
      "\u001b[0;31mTypeError\u001b[0m                                 Traceback (most recent call last)",
      "\u001b[0;32m<ipython-input-97-50a98ed2c0ac>\u001b[0m in \u001b[0;36m<module>\u001b[0;34m()\u001b[0m\n\u001b[1;32m      2\u001b[0m \u001b[0mprint\u001b[0m\u001b[0;34m(\u001b[0m\u001b[0mhash\u001b[0m\u001b[0;34m(\u001b[0m\u001b[0;34m'string'\u001b[0m\u001b[0;34m)\u001b[0m\u001b[0;34m)\u001b[0m\u001b[0;34m\u001b[0m\u001b[0m\n\u001b[1;32m      3\u001b[0m \u001b[0mprint\u001b[0m \u001b[0;34m(\u001b[0m\u001b[0mhash\u001b[0m\u001b[0;34m(\u001b[0m\u001b[0;34m(\u001b[0m\u001b[0;36m1\u001b[0m\u001b[0;34m,\u001b[0m\u001b[0;36m2\u001b[0m\u001b[0;34m,\u001b[0m\u001b[0;36m3\u001b[0m\u001b[0;34m)\u001b[0m\u001b[0;34m)\u001b[0m\u001b[0;34m)\u001b[0m\u001b[0;34m\u001b[0m\u001b[0m\n\u001b[0;32m----> 4\u001b[0;31m \u001b[0mprint\u001b[0m \u001b[0;34m(\u001b[0m\u001b[0mhash\u001b[0m\u001b[0;34m(\u001b[0m\u001b[0;34m[\u001b[0m\u001b[0;36m1\u001b[0m\u001b[0;34m,\u001b[0m\u001b[0;36m2\u001b[0m\u001b[0;34m,\u001b[0m\u001b[0;36m4\u001b[0m\u001b[0;34m]\u001b[0m\u001b[0;34m)\u001b[0m\u001b[0;34m)\u001b[0m \u001b[0;31m# generates an error as lists are immutable\u001b[0m\u001b[0;34m\u001b[0m\u001b[0m\n\u001b[0m",
      "\u001b[0;31mTypeError\u001b[0m: unhashable type: 'list'"
     ]
    }
   ],
   "source": [
    "# The keys of a dictionary should be immutable(int, string, float, tuples). The technical term for this is hashability\n",
    "print(hash('string'))\n",
    "print (hash((1,2,3)))\n",
    "print (hash([1,2,4])) # generates an error as lists are immutable"
   ]
  },
  {
   "cell_type": "code",
   "execution_count": 98,
   "metadata": {
    "collapsed": false
   },
   "outputs": [
    {
     "data": {
      "text/plain": [
       "{(3, 5, 6): 3}"
      ]
     },
     "execution_count": 98,
     "metadata": {},
     "output_type": "execute_result"
    }
   ],
   "source": [
    "# An easy way to convert a list into a key is to convert it to a tuple\n",
    "fg={}\n",
    "fg[(3,5,6)]=3\n",
    "fg"
   ]
  },
  {
   "cell_type": "code",
   "execution_count": 99,
   "metadata": {
    "collapsed": false
   },
   "outputs": [
    {
     "data": {
      "text/plain": [
       "{2, 3, 4, 5, 6, 7, 8, 63}"
      ]
     },
     "execution_count": 99,
     "metadata": {},
     "output_type": "execute_result"
    }
   ],
   "source": [
    "# SET\n",
    "# a set is an unordered collection of unique elements.\n",
    "set([3,3,4,5,2,6,4,7,8,63,4,5])"
   ]
  },
  {
   "cell_type": "code",
   "execution_count": 100,
   "metadata": {
    "collapsed": false
   },
   "outputs": [
    {
     "name": "stdout",
     "output_type": "stream",
     "text": [
      "{1, 2, 3, 4, 5, 6, 7, 8}\n",
      "{3, 4, 5}\n",
      "{1, 2}\n",
      "{1, 2, 6, 7, 8}\n",
      "True\n"
     ]
    }
   ],
   "source": [
    "#Sets support mathematical set operations like union, intersection, difference, and symmetric difference\n",
    "a = {1, 2, 3, 4, 5}\n",
    "b = {3, 4, 5, 6, 7, 8}\n",
    "print(a|b)\n",
    "print(a&b)\n",
    "print(a-b)\n",
    "print(a^b)\n",
    "print({1,2,3}=={2,1,3})"
   ]
  },
  {
   "cell_type": "code",
   "execution_count": 109,
   "metadata": {
    "collapsed": false
   },
   "outputs": [
    {
     "name": "stdout",
     "output_type": "stream",
     "text": [
      "{'M': ['Manchester', 'Mancity'], 'A': ['Arsenal'], 'C': ['Chelsea'], 'D': ['Dortmund'], 'L': ['Liverpool'], 'T': ['Tottenham'], 'B': ['Barcelona']}\n"
     ]
    }
   ],
   "source": [
    "football_clubs = ['Manchester', 'Liverpool', 'Arsenal', 'Chelsea', 'Mancity', 'Tottenham', 'Barcelona','Dortmund']\n",
    "\n",
    "football ={}\n",
    "for clubs in football_clubs: \n",
    "    club = clubs[0] # gets the first character of football_clubs\n",
    "    if club not in football: \n",
    "        football[club] = [clubs]\n",
    "    else:\n",
    "        football[club].append(clubs)\n",
    "print(football)"
   ]
  },
  {
   "cell_type": "code",
   "execution_count": 111,
   "metadata": {
    "collapsed": false
   },
   "outputs": [
    {
     "name": "stdout",
     "output_type": "stream",
     "text": [
      "defaultdict(<class 'list'>, {'M': ['Manchester', 'Mancity'], 'A': ['Arsenal'], 'C': ['Chelsea'], 'D': ['Dortmund'], 'L': ['Liverpool'], 'T': ['Tottenham'], 'B': ['Barcelona']})\n"
     ]
    }
   ],
   "source": [
    "from collections import defaultdict\n",
    "soccer=defaultdict(list)\n",
    "\n",
    "for clubs in football_clubs:\n",
    "    soccer[clubs[0]].append(clubs)\n",
    "print(soccer)"
   ]
  },
  {
   "cell_type": "code",
   "execution_count": 112,
   "metadata": {
    "collapsed": true
   },
   "outputs": [],
   "source": [
    "#Functions"
   ]
  },
  {
   "cell_type": "code",
   "execution_count": 113,
   "metadata": {
    "collapsed": false
   },
   "outputs": [
    {
     "name": "stdout",
     "output_type": "stream",
     "text": [
      "(2, 4, 1)\n"
     ]
    }
   ],
   "source": [
    "# a function can return multiple values\n",
    "def check():\n",
    "    x=2\n",
    "    y=4\n",
    "    z=1\n",
    "    return x,y,z\n",
    "print(check())"
   ]
  },
  {
   "cell_type": "code",
   "execution_count": 114,
   "metadata": {
    "collapsed": false
   },
   "outputs": [
    {
     "name": "stdout",
     "output_type": "stream",
     "text": [
      "[False, False, False, True, False, True, True, False, False, True]\n"
     ]
    }
   ],
   "source": [
    "# Example of a closure function. The function returns True, if a element is repeated in the list.\n",
    "def dict_func():\n",
    "    new_dict={}\n",
    "    def modifier(z):\n",
    "        if z in new_dict:\n",
    "            return True\n",
    "        else:\n",
    "            new_dict[z]=True\n",
    "            return False\n",
    "    return modifier\n",
    "\n",
    "x=dict_func()\n",
    "list_func = [5,4,6,5,3,4,6,2,1,5]\n",
    "y=[x(i) for i in list_func]\n",
    "print(y)"
   ]
  },
  {
   "cell_type": "code",
   "execution_count": 115,
   "metadata": {
    "collapsed": true
   },
   "outputs": [],
   "source": [
    "# Cleaning data"
   ]
  },
  {
   "cell_type": "code",
   "execution_count": 116,
   "metadata": {
    "collapsed": false
   },
   "outputs": [
    {
     "data": {
      "text/plain": [
       "'\\nRaw data is messy. So you have to clean the data set, to make it ready for analysis.\\nHere we have a list of states that consists of unnecessary punctuations,capilitalization and white space. \\nFirst, I am importing a python module called regular expression. '"
      ]
     },
     "execution_count": 116,
     "metadata": {},
     "output_type": "execute_result"
    }
   ],
   "source": [
    "\"\"\"\n",
    "Raw data is messy. So you have to clean the data set, to make it ready for analysis.\n",
    "Here we have a list of states that consists of unnecessary punctuations,capilitalization and white space. \n",
    "First, I am importing a python module called regular expression. \"\"\""
   ]
  },
  {
   "cell_type": "code",
   "execution_count": 120,
   "metadata": {
    "collapsed": false
   },
   "outputs": [
    {
     "name": "stdout",
     "output_type": "stream",
     "text": [
      "['Kerala', 'Gujarat', 'Delhi', 'Telengana', 'Tripura', 'Tamil Nadu', 'West Bengal']\n"
     ]
    }
   ],
   "source": [
    "import re\n",
    "\n",
    "states = ['       Kerala', 'Gujarat!', 'Delhi', 'Telengana', 'TriPUra', 'Tamil Nadu##', 'West Bengal?']\n",
    "\n",
    "def remove_functions(strp):\n",
    "    return re.sub('[!?#]','',strp)\n",
    "\n",
    "oops=[str.strip,remove_functions,str.title] # create a list of functions\n",
    "\n",
    "def clean_data(stat,oop):\n",
    "    result=[]\n",
    "    for data in stat:\n",
    "        for fun in oop:\n",
    "            data=fun(data) # apply each and every function in ooops to states.\n",
    "        result.append(data)\n",
    "    return result\n",
    "\n",
    "x=clean_data(states,oops)\n",
    "print(x)"
   ]
  },
  {
   "cell_type": "code",
   "execution_count": 122,
   "metadata": {
    "collapsed": false
   },
   "outputs": [
    {
     "name": "stdout",
     "output_type": "stream",
     "text": [
      "64\n",
      "81\n"
     ]
    }
   ],
   "source": [
    "# Lambda is short form of writing a function.\n",
    "def square(x):\n",
    "    return x**2\n",
    "print(square(8))\n",
    "\n",
    "y=lambda x: x**2\n",
    "print(y(9))"
   ]
  },
  {
   "cell_type": "code",
   "execution_count": 123,
   "metadata": {
    "collapsed": true
   },
   "outputs": [],
   "source": [
    "# Generator Expressions"
   ]
  },
  {
   "cell_type": "code",
   "execution_count": 130,
   "metadata": {
    "collapsed": false
   },
   "outputs": [
    {
     "name": "stdout",
     "output_type": "stream",
     "text": [
      "<generator object new_objj at 0x109b80d00>\n",
      "285\n"
     ]
    },
    {
     "ename": "NameError",
     "evalue": "name 'xrange' is not defined",
     "output_type": "error",
     "traceback": [
      "\u001b[0;31m---------------------------------------------------------------------------\u001b[0m",
      "\u001b[0;31mNameError\u001b[0m                                 Traceback (most recent call last)",
      "\u001b[0;32m<ipython-input-130-021e3305e7ae>\u001b[0m in \u001b[0;36m<module>\u001b[0;34m()\u001b[0m\n\u001b[1;32m     11\u001b[0m \u001b[0mprint\u001b[0m \u001b[0;34m(\u001b[0m\u001b[0my\u001b[0m\u001b[0;34m)\u001b[0m\u001b[0;34m\u001b[0m\u001b[0m\n\u001b[1;32m     12\u001b[0m \u001b[0;34m\u001b[0m\u001b[0m\n\u001b[0;32m---> 13\u001b[0;31m \u001b[0mdict\u001b[0m\u001b[0;34m(\u001b[0m\u001b[0;34m(\u001b[0m\u001b[0mi\u001b[0m\u001b[0;34m,\u001b[0m\u001b[0mi\u001b[0m\u001b[0;34m**\u001b[0m\u001b[0;36m2\u001b[0m\u001b[0;34m)\u001b[0m \u001b[0;32mfor\u001b[0m \u001b[0mi\u001b[0m \u001b[0;32min\u001b[0m \u001b[0mxrange\u001b[0m\u001b[0;34m(\u001b[0m\u001b[0;36m5\u001b[0m\u001b[0;34m)\u001b[0m\u001b[0;34m)\u001b[0m \u001b[0;31m#xrange is faster than range\u001b[0m\u001b[0;34m\u001b[0m\u001b[0m\n\u001b[0m",
      "\u001b[0;31mNameError\u001b[0m: name 'xrange' is not defined"
     ]
    }
   ],
   "source": [
    "def new_objj():\n",
    "    for x in xrange(100):\n",
    "        yield x**2\n",
    "some_var=new_objj()\n",
    "print(some_var)\n",
    "\n",
    "# The above function can be written as follows\n",
    "new_obj = (x**2 for x in range(100)) \n",
    "\n",
    "y = sum(x**2 for x in range(10))\n",
    "print (y)\n",
    "\n",
    "dict((i,i**2) for i in xrange(5)) #xrange is faster than range"
   ]
  },
  {
   "cell_type": "code",
   "execution_count": 132,
   "metadata": {
    "collapsed": false
   },
   "outputs": [
    {
     "data": {
      "text/plain": [
       "{1: 'Ind', 2: 'US', 3: 'UK'}"
      ]
     },
     "execution_count": 132,
     "metadata": {},
     "output_type": "execute_result"
    }
   ],
   "source": [
    "rkeys=[1,2,3]\n",
    "rvals=['Ind','US','UK']\n",
    "rap={e[0]:e[1] for e in zip(rkeys,rvals)}\n",
    "rap"
   ]
  }
 ],
 "metadata": {
  "anaconda-cloud": {},
  "kernelspec": {
   "display_name": "Python 3",
   "language": "python",
   "name": "python3"
  },
  "language_info": {
   "codemirror_mode": {
    "name": "ipython",
    "version": 3
   },
   "file_extension": ".py",
   "mimetype": "text/x-python",
   "name": "python",
   "nbconvert_exporter": "python",
   "pygments_lexer": "ipython3",
   "version": "3.5.2"
  }
 },
 "nbformat": 4,
 "nbformat_minor": 1
}
